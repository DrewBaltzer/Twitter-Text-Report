{
 "cells": [
  {
   "cell_type": "markdown",
   "id": "7217d339",
   "metadata": {},
   "source": [
    "### Twitter Text Report by Drew Baltzer\n",
    "\n",
    "October 20th, 2021\n"
   ]
  },
  {
   "cell_type": "code",
   "execution_count": 3,
   "id": "23e96c53",
   "metadata": {},
   "outputs": [],
   "source": [
    "import pandas as pd\n",
    "import json\n",
    "import urllib\n",
    "import requests"
   ]
  },
  {
   "cell_type": "code",
   "execution_count": 4,
   "id": "dab5de84",
   "metadata": {},
   "outputs": [],
   "source": [
    "bearer_token = pd.read_csv('twitter bearer token.txt', sep = '\\t', header = 0)"
   ]
  },
  {
   "cell_type": "code",
   "execution_count": null,
   "id": "091e78b6",
   "metadata": {},
   "outputs": [],
   "source": [
    "bearer_token['bearer_token'].iloc[0]"
   ]
  },
  {
   "cell_type": "code",
   "execution_count": 5,
   "id": "bbc525ca",
   "metadata": {},
   "outputs": [],
   "source": [
    "header = {'Authorization' : 'Bearer {}'.format(bearer_token['bearer_token'].iloc[0])}"
   ]
  },
  {
   "cell_type": "code",
   "execution_count": 6,
   "id": "a8915783",
   "metadata": {},
   "outputs": [
    {
     "data": {
      "text/plain": [
       "Index(['bearer_token'], dtype='object')"
      ]
     },
     "execution_count": 6,
     "metadata": {},
     "output_type": "execute_result"
    }
   ],
   "source": [
    "bearer_token.keys()"
   ]
  },
  {
   "cell_type": "code",
   "execution_count": 7,
   "id": "32c39af6",
   "metadata": {},
   "outputs": [],
   "source": [
    "endpoint_url = 'https://api.twitter.com/2/tweets/search/recent'"
   ]
  },
  {
   "cell_type": "code",
   "execution_count": 8,
   "id": "e07cc86e",
   "metadata": {},
   "outputs": [],
   "source": [
    "query = urllib.parse.quote('(#DeadbyDaylight) lang:en')"
   ]
  },
  {
   "cell_type": "code",
   "execution_count": 9,
   "id": "338caa04",
   "metadata": {},
   "outputs": [
    {
     "data": {
      "text/plain": [
       "'%28%23DeadbyDaylight%29%20lang%3Aen'"
      ]
     },
     "execution_count": 9,
     "metadata": {},
     "output_type": "execute_result"
    }
   ],
   "source": [
    "query"
   ]
  },
  {
   "cell_type": "code",
   "execution_count": 10,
   "id": "d4f0b61a",
   "metadata": {},
   "outputs": [],
   "source": [
    "my_api_url = endpoint_url + '?query={}'.format(query)"
   ]
  },
  {
   "cell_type": "code",
   "execution_count": 11,
   "id": "58e828c7",
   "metadata": {},
   "outputs": [
    {
     "data": {
      "text/plain": [
       "'https://api.twitter.com/2/tweets/search/recent?query=%28%23DeadbyDaylight%29%20lang%3Aen'"
      ]
     },
     "execution_count": 11,
     "metadata": {},
     "output_type": "execute_result"
    }
   ],
   "source": [
    "my_api_url"
   ]
  },
  {
   "cell_type": "code",
   "execution_count": 12,
   "id": "339a650e",
   "metadata": {},
   "outputs": [],
   "source": [
    "tweet_fields = 'public_metrics,created_at,author_id,lang,conversation_id'"
   ]
  },
  {
   "cell_type": "code",
   "execution_count": 13,
   "id": "6a95d44b",
   "metadata": {},
   "outputs": [],
   "source": [
    "field_api_url = endpoint_url + '?query={}&tweet.fields={}'.format(query, tweet_fields)"
   ]
  },
  {
   "cell_type": "code",
   "execution_count": 14,
   "id": "4b369fa7",
   "metadata": {
    "scrolled": true
   },
   "outputs": [
    {
     "data": {
      "text/plain": [
       "'https://api.twitter.com/2/tweets/search/recent?query=%28%23DeadbyDaylight%29%20lang%3Aen&tweet.fields=public_metrics,created_at,author_id,lang,conversation_id'"
      ]
     },
     "execution_count": 14,
     "metadata": {},
     "output_type": "execute_result"
    }
   ],
   "source": [
    "field_api_url"
   ]
  },
  {
   "cell_type": "code",
   "execution_count": 15,
   "id": "378a44b9",
   "metadata": {},
   "outputs": [],
   "source": [
    "expansions = 'author_id'"
   ]
  },
  {
   "cell_type": "code",
   "execution_count": 16,
   "id": "7ceb0352",
   "metadata": {},
   "outputs": [],
   "source": [
    "expansions_api_url = endpoint_url + '?query={}&max_results=100&tweet.fields={}&expansions={}&user.fields={}'.format(query, tweet_fields, expansions, 'username')"
   ]
  },
  {
   "cell_type": "code",
   "execution_count": 17,
   "id": "e2821115",
   "metadata": {},
   "outputs": [
    {
     "data": {
      "text/plain": [
       "'https://api.twitter.com/2/tweets/search/recent?query=%28%23DeadbyDaylight%29%20lang%3Aen&max_results=100&tweet.fields=public_metrics,created_at,author_id,lang,conversation_id&expansions=author_id&user.fields=username'"
      ]
     },
     "execution_count": 17,
     "metadata": {},
     "output_type": "execute_result"
    }
   ],
   "source": [
    "expansions_api_url"
   ]
  },
  {
   "cell_type": "code",
   "execution_count": 18,
   "id": "15d6060b",
   "metadata": {},
   "outputs": [],
   "source": [
    "response_1 = requests.request(\"GET\", expansions_api_url, headers = header)"
   ]
  },
  {
   "cell_type": "code",
   "execution_count": null,
   "id": "e68523af",
   "metadata": {
    "scrolled": false
   },
   "outputs": [],
   "source": [
    "response_1.text"
   ]
  },
  {
   "cell_type": "markdown",
   "id": "078a6605",
   "metadata": {},
   "source": [
    "### The Data\n",
    "The data collected through the hash tag 'Dead by Daylight' on Twitter using the Twitter API allows for the collection of any tweets within the selected parameters. The parameters specified are placed neatly in a table to help draw conclusions or ask certain questions about the data collected. Before collecting this data I wanted to know if certain video games popularity or concurrent player count correlates with how often the game is tweeted about. "
   ]
  },
  {
   "cell_type": "code",
   "execution_count": 19,
   "id": "00662b1d",
   "metadata": {},
   "outputs": [],
   "source": [
    "response_1_dict = json.loads(response_1.text)"
   ]
  },
  {
   "cell_type": "code",
   "execution_count": 20,
   "id": "4ecfded9",
   "metadata": {},
   "outputs": [
    {
     "data": {
      "text/plain": [
       "dict_keys(['data', 'includes', 'meta'])"
      ]
     },
     "execution_count": 20,
     "metadata": {},
     "output_type": "execute_result"
    }
   ],
   "source": [
    "response_1_dict.keys()"
   ]
  },
  {
   "cell_type": "code",
   "execution_count": 21,
   "id": "f66b8865",
   "metadata": {},
   "outputs": [],
   "source": [
    "my_df = pd.DataFrame(response_1_dict['data'])"
   ]
  },
  {
   "cell_type": "code",
   "execution_count": 22,
   "id": "59672970",
   "metadata": {},
   "outputs": [
    {
     "data": {
      "text/html": [
       "<div>\n",
       "<style scoped>\n",
       "    .dataframe tbody tr th:only-of-type {\n",
       "        vertical-align: middle;\n",
       "    }\n",
       "\n",
       "    .dataframe tbody tr th {\n",
       "        vertical-align: top;\n",
       "    }\n",
       "\n",
       "    .dataframe thead th {\n",
       "        text-align: right;\n",
       "    }\n",
       "</style>\n",
       "<table border=\"1\" class=\"dataframe\">\n",
       "  <thead>\n",
       "    <tr style=\"text-align: right;\">\n",
       "      <th></th>\n",
       "      <th>id</th>\n",
       "      <th>author_id</th>\n",
       "      <th>text</th>\n",
       "      <th>created_at</th>\n",
       "      <th>public_metrics</th>\n",
       "      <th>conversation_id</th>\n",
       "      <th>lang</th>\n",
       "    </tr>\n",
       "  </thead>\n",
       "  <tbody>\n",
       "    <tr>\n",
       "      <th>0</th>\n",
       "      <td>1450913407826227200</td>\n",
       "      <td>1435066907485360129</td>\n",
       "      <td>RT @horror_himbos: First post of the year wooo...</td>\n",
       "      <td>2021-10-20T19:54:47.000Z</td>\n",
       "      <td>{'retweet_count': 638, 'reply_count': 0, 'like...</td>\n",
       "      <td>1450913407826227200</td>\n",
       "      <td>en</td>\n",
       "    </tr>\n",
       "    <tr>\n",
       "      <th>1</th>\n",
       "      <td>1450913292797480961</td>\n",
       "      <td>295458780</td>\n",
       "      <td>Not sure if yall have seen\\n\\nBut we now have ...</td>\n",
       "      <td>2021-10-20T19:54:20.000Z</td>\n",
       "      <td>{'retweet_count': 0, 'reply_count': 0, 'like_c...</td>\n",
       "      <td>1450913292797480961</td>\n",
       "      <td>en</td>\n",
       "    </tr>\n",
       "    <tr>\n",
       "      <th>2</th>\n",
       "      <td>1450913277672923143</td>\n",
       "      <td>1178427246576574464</td>\n",
       "      <td>RT @LeaksDbd: Mikaela's \"Circle of Healing\" pe...</td>\n",
       "      <td>2021-10-20T19:54:16.000Z</td>\n",
       "      <td>{'retweet_count': 208, 'reply_count': 0, 'like...</td>\n",
       "      <td>1450913277672923143</td>\n",
       "      <td>en</td>\n",
       "    </tr>\n",
       "    <tr>\n",
       "      <th>3</th>\n",
       "      <td>1450913266562109445</td>\n",
       "      <td>113453052</td>\n",
       "      <td>RT @kevinwoo91: I was delighted to consult wit...</td>\n",
       "      <td>2021-10-20T19:54:14.000Z</td>\n",
       "      <td>{'retweet_count': 100, 'reply_count': 0, 'like...</td>\n",
       "      <td>1450913266562109445</td>\n",
       "      <td>en</td>\n",
       "    </tr>\n",
       "    <tr>\n",
       "      <th>4</th>\n",
       "      <td>1450913230675759104</td>\n",
       "      <td>2489368154</td>\n",
       "      <td>RT @horror_himbos: First post of the year wooo...</td>\n",
       "      <td>2021-10-20T19:54:05.000Z</td>\n",
       "      <td>{'retweet_count': 638, 'reply_count': 0, 'like...</td>\n",
       "      <td>1450913230675759104</td>\n",
       "      <td>en</td>\n",
       "    </tr>\n",
       "    <tr>\n",
       "      <th>...</th>\n",
       "      <td>...</td>\n",
       "      <td>...</td>\n",
       "      <td>...</td>\n",
       "      <td>...</td>\n",
       "      <td>...</td>\n",
       "      <td>...</td>\n",
       "      <td>...</td>\n",
       "    </tr>\n",
       "    <tr>\n",
       "      <th>95</th>\n",
       "      <td>1450907198234759170</td>\n",
       "      <td>539464083</td>\n",
       "      <td>Need distraction. Come hang!~  !Dixper !bitale...</td>\n",
       "      <td>2021-10-20T19:30:07.000Z</td>\n",
       "      <td>{'retweet_count': 0, 'reply_count': 0, 'like_c...</td>\n",
       "      <td>1450907198234759170</td>\n",
       "      <td>en</td>\n",
       "    </tr>\n",
       "    <tr>\n",
       "      <th>96</th>\n",
       "      <td>1450907100838862850</td>\n",
       "      <td>931143803611828224</td>\n",
       "      <td>RT @VolmereArt: And my favourite YouTube previ...</td>\n",
       "      <td>2021-10-20T19:29:44.000Z</td>\n",
       "      <td>{'retweet_count': 104, 'reply_count': 0, 'like...</td>\n",
       "      <td>1450907100838862850</td>\n",
       "      <td>en</td>\n",
       "    </tr>\n",
       "    <tr>\n",
       "      <th>97</th>\n",
       "      <td>1450907058195292161</td>\n",
       "      <td>946556809665499136</td>\n",
       "      <td>RT @leaksbydaylight: Login into #DeadbyDayligh...</td>\n",
       "      <td>2021-10-20T19:29:33.000Z</td>\n",
       "      <td>{'retweet_count': 16, 'reply_count': 0, 'like_...</td>\n",
       "      <td>1450907058195292161</td>\n",
       "      <td>en</td>\n",
       "    </tr>\n",
       "    <tr>\n",
       "      <th>98</th>\n",
       "      <td>1450907014020874246</td>\n",
       "      <td>844116425027534848</td>\n",
       "      <td>RT @LeaksDbd: Mikaela's \"Circle of Healing\" pe...</td>\n",
       "      <td>2021-10-20T19:29:23.000Z</td>\n",
       "      <td>{'retweet_count': 208, 'reply_count': 0, 'like...</td>\n",
       "      <td>1450907014020874246</td>\n",
       "      <td>en</td>\n",
       "    </tr>\n",
       "    <tr>\n",
       "      <th>99</th>\n",
       "      <td>1450906987806478342</td>\n",
       "      <td>18376333</td>\n",
       "      <td>My piece for the @DeadByBHVR Halloween art con...</td>\n",
       "      <td>2021-10-20T19:29:17.000Z</td>\n",
       "      <td>{'retweet_count': 0, 'reply_count': 0, 'like_c...</td>\n",
       "      <td>1450906987806478342</td>\n",
       "      <td>en</td>\n",
       "    </tr>\n",
       "  </tbody>\n",
       "</table>\n",
       "<p>100 rows × 7 columns</p>\n",
       "</div>"
      ],
      "text/plain": [
       "                     id            author_id  \\\n",
       "0   1450913407826227200  1435066907485360129   \n",
       "1   1450913292797480961            295458780   \n",
       "2   1450913277672923143  1178427246576574464   \n",
       "3   1450913266562109445            113453052   \n",
       "4   1450913230675759104           2489368154   \n",
       "..                  ...                  ...   \n",
       "95  1450907198234759170            539464083   \n",
       "96  1450907100838862850   931143803611828224   \n",
       "97  1450907058195292161   946556809665499136   \n",
       "98  1450907014020874246   844116425027534848   \n",
       "99  1450906987806478342             18376333   \n",
       "\n",
       "                                                 text  \\\n",
       "0   RT @horror_himbos: First post of the year wooo...   \n",
       "1   Not sure if yall have seen\\n\\nBut we now have ...   \n",
       "2   RT @LeaksDbd: Mikaela's \"Circle of Healing\" pe...   \n",
       "3   RT @kevinwoo91: I was delighted to consult wit...   \n",
       "4   RT @horror_himbos: First post of the year wooo...   \n",
       "..                                                ...   \n",
       "95  Need distraction. Come hang!~  !Dixper !bitale...   \n",
       "96  RT @VolmereArt: And my favourite YouTube previ...   \n",
       "97  RT @leaksbydaylight: Login into #DeadbyDayligh...   \n",
       "98  RT @LeaksDbd: Mikaela's \"Circle of Healing\" pe...   \n",
       "99  My piece for the @DeadByBHVR Halloween art con...   \n",
       "\n",
       "                  created_at  \\\n",
       "0   2021-10-20T19:54:47.000Z   \n",
       "1   2021-10-20T19:54:20.000Z   \n",
       "2   2021-10-20T19:54:16.000Z   \n",
       "3   2021-10-20T19:54:14.000Z   \n",
       "4   2021-10-20T19:54:05.000Z   \n",
       "..                       ...   \n",
       "95  2021-10-20T19:30:07.000Z   \n",
       "96  2021-10-20T19:29:44.000Z   \n",
       "97  2021-10-20T19:29:33.000Z   \n",
       "98  2021-10-20T19:29:23.000Z   \n",
       "99  2021-10-20T19:29:17.000Z   \n",
       "\n",
       "                                       public_metrics      conversation_id  \\\n",
       "0   {'retweet_count': 638, 'reply_count': 0, 'like...  1450913407826227200   \n",
       "1   {'retweet_count': 0, 'reply_count': 0, 'like_c...  1450913292797480961   \n",
       "2   {'retweet_count': 208, 'reply_count': 0, 'like...  1450913277672923143   \n",
       "3   {'retweet_count': 100, 'reply_count': 0, 'like...  1450913266562109445   \n",
       "4   {'retweet_count': 638, 'reply_count': 0, 'like...  1450913230675759104   \n",
       "..                                                ...                  ...   \n",
       "95  {'retweet_count': 0, 'reply_count': 0, 'like_c...  1450907198234759170   \n",
       "96  {'retweet_count': 104, 'reply_count': 0, 'like...  1450907100838862850   \n",
       "97  {'retweet_count': 16, 'reply_count': 0, 'like_...  1450907058195292161   \n",
       "98  {'retweet_count': 208, 'reply_count': 0, 'like...  1450907014020874246   \n",
       "99  {'retweet_count': 0, 'reply_count': 0, 'like_c...  1450906987806478342   \n",
       "\n",
       "   lang  \n",
       "0    en  \n",
       "1    en  \n",
       "2    en  \n",
       "3    en  \n",
       "4    en  \n",
       "..  ...  \n",
       "95   en  \n",
       "96   en  \n",
       "97   en  \n",
       "98   en  \n",
       "99   en  \n",
       "\n",
       "[100 rows x 7 columns]"
      ]
     },
     "execution_count": 22,
     "metadata": {},
     "output_type": "execute_result"
    }
   ],
   "source": [
    "my_df.head(100)"
   ]
  },
  {
   "cell_type": "code",
   "execution_count": 23,
   "id": "2b317558",
   "metadata": {},
   "outputs": [
    {
     "data": {
      "text/plain": [
       "{'newest_id': '1450913407826227200',\n",
       " 'oldest_id': '1450906987806478342',\n",
       " 'result_count': 100,\n",
       " 'next_token': 'b26v89c19zqg8o3fpdv5st2w7f92o6wedcb8qid22iqv1'}"
      ]
     },
     "execution_count": 23,
     "metadata": {},
     "output_type": "execute_result"
    }
   ],
   "source": [
    "response_1_dict['meta']"
   ]
  },
  {
   "cell_type": "code",
   "execution_count": 24,
   "id": "f880afc8",
   "metadata": {},
   "outputs": [],
   "source": [
    "expansions_api_url_2 = expansions_api_url + '&next_token={}'.format(response_1_dict['meta']['next_token'])"
   ]
  },
  {
   "cell_type": "code",
   "execution_count": 25,
   "id": "60170eff",
   "metadata": {
    "scrolled": true
   },
   "outputs": [
    {
     "data": {
      "text/plain": [
       "'https://api.twitter.com/2/tweets/search/recent?query=%28%23DeadbyDaylight%29%20lang%3Aen&max_results=100&tweet.fields=public_metrics,created_at,author_id,lang,conversation_id&expansions=author_id&user.fields=username&next_token=b26v89c19zqg8o3fpdv5st2w7f92o6wedcb8qid22iqv1'"
      ]
     },
     "execution_count": 25,
     "metadata": {},
     "output_type": "execute_result"
    }
   ],
   "source": [
    "expansions_api_url_2"
   ]
  },
  {
   "cell_type": "markdown",
   "id": "3d9d1436",
   "metadata": {},
   "source": [
    "### Variables and Data\n",
    "Since I was unsure how to build a proper function to display the tweets, I did it manually by creating new variables for each set of 100 tweets. Each response variable is used to display a different set of 100 tweets with the Dead by Daylight hash tag. Each column of data was pulled by using different parameters under the tweet.fields specification which allows the data to be in a readable format. These columns do an okay job for showing what each column represents, but don't look very neat and are in different orders throughout each separate table."
   ]
  },
  {
   "cell_type": "code",
   "execution_count": 26,
   "id": "a8a15331",
   "metadata": {},
   "outputs": [],
   "source": [
    "response_2_dict = requests.request(\"GET\", expansions_api_url_2, headers = header)"
   ]
  },
  {
   "cell_type": "code",
   "execution_count": null,
   "id": "53e95616",
   "metadata": {
    "scrolled": false
   },
   "outputs": [],
   "source": [
    "response_2_dict.text"
   ]
  },
  {
   "cell_type": "code",
   "execution_count": 27,
   "id": "c91464cb",
   "metadata": {},
   "outputs": [],
   "source": [
    "response_2_dict = json.loads(response_2_dict.text)"
   ]
  },
  {
   "cell_type": "code",
   "execution_count": 28,
   "id": "49bdb1be",
   "metadata": {
    "scrolled": true
   },
   "outputs": [],
   "source": [
    "my_df = pd.DataFrame(response_2_dict['data'])"
   ]
  },
  {
   "cell_type": "code",
   "execution_count": 29,
   "id": "6dba3817",
   "metadata": {
    "scrolled": true
   },
   "outputs": [
    {
     "data": {
      "text/html": [
       "<div>\n",
       "<style scoped>\n",
       "    .dataframe tbody tr th:only-of-type {\n",
       "        vertical-align: middle;\n",
       "    }\n",
       "\n",
       "    .dataframe tbody tr th {\n",
       "        vertical-align: top;\n",
       "    }\n",
       "\n",
       "    .dataframe thead th {\n",
       "        text-align: right;\n",
       "    }\n",
       "</style>\n",
       "<table border=\"1\" class=\"dataframe\">\n",
       "  <thead>\n",
       "    <tr style=\"text-align: right;\">\n",
       "      <th></th>\n",
       "      <th>author_id</th>\n",
       "      <th>public_metrics</th>\n",
       "      <th>conversation_id</th>\n",
       "      <th>id</th>\n",
       "      <th>text</th>\n",
       "      <th>created_at</th>\n",
       "      <th>lang</th>\n",
       "    </tr>\n",
       "  </thead>\n",
       "  <tbody>\n",
       "    <tr>\n",
       "      <th>0</th>\n",
       "      <td>2932996520</td>\n",
       "      <td>{'retweet_count': 3, 'reply_count': 0, 'like_c...</td>\n",
       "      <td>1450906972979609601</td>\n",
       "      <td>1450906972979609601</td>\n",
       "      <td>RT @TheRealCynful: Dead by Dixper???? We are t...</td>\n",
       "      <td>2021-10-20T19:29:13.000Z</td>\n",
       "      <td>en</td>\n",
       "    </tr>\n",
       "    <tr>\n",
       "      <th>1</th>\n",
       "      <td>1024362904269803520</td>\n",
       "      <td>{'retweet_count': 16, 'reply_count': 0, 'like_...</td>\n",
       "      <td>1450906940779937795</td>\n",
       "      <td>1450906940779937795</td>\n",
       "      <td>RT @VolmereArt: YouTube preview commissions 👀\\...</td>\n",
       "      <td>2021-10-20T19:29:05.000Z</td>\n",
       "      <td>en</td>\n",
       "    </tr>\n",
       "    <tr>\n",
       "      <th>2</th>\n",
       "      <td>835252080629592064</td>\n",
       "      <td>{'retweet_count': 638, 'reply_count': 0, 'like...</td>\n",
       "      <td>1450906933196587010</td>\n",
       "      <td>1450906933196587010</td>\n",
       "      <td>RT @horror_himbos: First post of the year wooo...</td>\n",
       "      <td>2021-10-20T19:29:04.000Z</td>\n",
       "      <td>en</td>\n",
       "    </tr>\n",
       "    <tr>\n",
       "      <th>3</th>\n",
       "      <td>1185434356107620353</td>\n",
       "      <td>{'retweet_count': 176, 'reply_count': 0, 'like...</td>\n",
       "      <td>1450906833028362249</td>\n",
       "      <td>1450906833028362249</td>\n",
       "      <td>RT @kimakkun: a commission of David and Jake h...</td>\n",
       "      <td>2021-10-20T19:28:40.000Z</td>\n",
       "      <td>en</td>\n",
       "    </tr>\n",
       "    <tr>\n",
       "      <th>4</th>\n",
       "      <td>851239491998294016</td>\n",
       "      <td>{'retweet_count': 515, 'reply_count': 0, 'like...</td>\n",
       "      <td>1450906641608548358</td>\n",
       "      <td>1450906641608548358</td>\n",
       "      <td>RT @dearDEERE: david king #deadbydaylight http...</td>\n",
       "      <td>2021-10-20T19:27:54.000Z</td>\n",
       "      <td>en</td>\n",
       "    </tr>\n",
       "    <tr>\n",
       "      <th>...</th>\n",
       "      <td>...</td>\n",
       "      <td>...</td>\n",
       "      <td>...</td>\n",
       "      <td>...</td>\n",
       "      <td>...</td>\n",
       "      <td>...</td>\n",
       "      <td>...</td>\n",
       "    </tr>\n",
       "    <tr>\n",
       "      <th>95</th>\n",
       "      <td>886370447851487238</td>\n",
       "      <td>{'retweet_count': 208, 'reply_count': 0, 'like...</td>\n",
       "      <td>1450901479615778827</td>\n",
       "      <td>1450901479615778827</td>\n",
       "      <td>RT @LeaksDbd: Mikaela's \"Circle of Healing\" pe...</td>\n",
       "      <td>2021-10-20T19:07:23.000Z</td>\n",
       "      <td>en</td>\n",
       "    </tr>\n",
       "    <tr>\n",
       "      <th>96</th>\n",
       "      <td>30863958</td>\n",
       "      <td>{'retweet_count': 0, 'reply_count': 0, 'like_c...</td>\n",
       "      <td>1450901340406927362</td>\n",
       "      <td>1450901340406927362</td>\n",
       "      <td>Tonight I'll be playing DBD with @ziggyzaster ...</td>\n",
       "      <td>2021-10-20T19:06:50.000Z</td>\n",
       "      <td>en</td>\n",
       "    </tr>\n",
       "    <tr>\n",
       "      <th>97</th>\n",
       "      <td>1259323420925255681</td>\n",
       "      <td>{'retweet_count': 176, 'reply_count': 0, 'like...</td>\n",
       "      <td>1450901290968498179</td>\n",
       "      <td>1450901290968498179</td>\n",
       "      <td>RT @kimakkun: a commission of David and Jake h...</td>\n",
       "      <td>2021-10-20T19:06:38.000Z</td>\n",
       "      <td>en</td>\n",
       "    </tr>\n",
       "    <tr>\n",
       "      <th>98</th>\n",
       "      <td>3234879603</td>\n",
       "      <td>{'retweet_count': 4, 'reply_count': 0, 'like_c...</td>\n",
       "      <td>1450901215064297475</td>\n",
       "      <td>1450901215064297475</td>\n",
       "      <td>RT @ShadowOctavia: Going live 🥰 Let's try out ...</td>\n",
       "      <td>2021-10-20T19:06:20.000Z</td>\n",
       "      <td>en</td>\n",
       "    </tr>\n",
       "    <tr>\n",
       "      <th>99</th>\n",
       "      <td>809638643274891264</td>\n",
       "      <td>{'retweet_count': 0, 'reply_count': 0, 'like_c...</td>\n",
       "      <td>1450901192276516864</td>\n",
       "      <td>1450901192276516864</td>\n",
       "      <td>Wow the y removed Kayla ls perks #DeadbyDaylight</td>\n",
       "      <td>2021-10-20T19:06:15.000Z</td>\n",
       "      <td>en</td>\n",
       "    </tr>\n",
       "  </tbody>\n",
       "</table>\n",
       "<p>100 rows × 7 columns</p>\n",
       "</div>"
      ],
      "text/plain": [
       "              author_id                                     public_metrics  \\\n",
       "0            2932996520  {'retweet_count': 3, 'reply_count': 0, 'like_c...   \n",
       "1   1024362904269803520  {'retweet_count': 16, 'reply_count': 0, 'like_...   \n",
       "2    835252080629592064  {'retweet_count': 638, 'reply_count': 0, 'like...   \n",
       "3   1185434356107620353  {'retweet_count': 176, 'reply_count': 0, 'like...   \n",
       "4    851239491998294016  {'retweet_count': 515, 'reply_count': 0, 'like...   \n",
       "..                  ...                                                ...   \n",
       "95   886370447851487238  {'retweet_count': 208, 'reply_count': 0, 'like...   \n",
       "96             30863958  {'retweet_count': 0, 'reply_count': 0, 'like_c...   \n",
       "97  1259323420925255681  {'retweet_count': 176, 'reply_count': 0, 'like...   \n",
       "98           3234879603  {'retweet_count': 4, 'reply_count': 0, 'like_c...   \n",
       "99   809638643274891264  {'retweet_count': 0, 'reply_count': 0, 'like_c...   \n",
       "\n",
       "        conversation_id                   id  \\\n",
       "0   1450906972979609601  1450906972979609601   \n",
       "1   1450906940779937795  1450906940779937795   \n",
       "2   1450906933196587010  1450906933196587010   \n",
       "3   1450906833028362249  1450906833028362249   \n",
       "4   1450906641608548358  1450906641608548358   \n",
       "..                  ...                  ...   \n",
       "95  1450901479615778827  1450901479615778827   \n",
       "96  1450901340406927362  1450901340406927362   \n",
       "97  1450901290968498179  1450901290968498179   \n",
       "98  1450901215064297475  1450901215064297475   \n",
       "99  1450901192276516864  1450901192276516864   \n",
       "\n",
       "                                                 text  \\\n",
       "0   RT @TheRealCynful: Dead by Dixper???? We are t...   \n",
       "1   RT @VolmereArt: YouTube preview commissions 👀\\...   \n",
       "2   RT @horror_himbos: First post of the year wooo...   \n",
       "3   RT @kimakkun: a commission of David and Jake h...   \n",
       "4   RT @dearDEERE: david king #deadbydaylight http...   \n",
       "..                                                ...   \n",
       "95  RT @LeaksDbd: Mikaela's \"Circle of Healing\" pe...   \n",
       "96  Tonight I'll be playing DBD with @ziggyzaster ...   \n",
       "97  RT @kimakkun: a commission of David and Jake h...   \n",
       "98  RT @ShadowOctavia: Going live 🥰 Let's try out ...   \n",
       "99   Wow the y removed Kayla ls perks #DeadbyDaylight   \n",
       "\n",
       "                  created_at lang  \n",
       "0   2021-10-20T19:29:13.000Z   en  \n",
       "1   2021-10-20T19:29:05.000Z   en  \n",
       "2   2021-10-20T19:29:04.000Z   en  \n",
       "3   2021-10-20T19:28:40.000Z   en  \n",
       "4   2021-10-20T19:27:54.000Z   en  \n",
       "..                       ...  ...  \n",
       "95  2021-10-20T19:07:23.000Z   en  \n",
       "96  2021-10-20T19:06:50.000Z   en  \n",
       "97  2021-10-20T19:06:38.000Z   en  \n",
       "98  2021-10-20T19:06:20.000Z   en  \n",
       "99  2021-10-20T19:06:15.000Z   en  \n",
       "\n",
       "[100 rows x 7 columns]"
      ]
     },
     "execution_count": 29,
     "metadata": {},
     "output_type": "execute_result"
    }
   ],
   "source": [
    "my_df.tail(100)"
   ]
  },
  {
   "cell_type": "code",
   "execution_count": 30,
   "id": "90b06aa6",
   "metadata": {},
   "outputs": [
    {
     "data": {
      "text/plain": [
       "100"
      ]
     },
     "execution_count": 30,
     "metadata": {},
     "output_type": "execute_result"
    }
   ],
   "source": [
    "len(my_df.index)"
   ]
  },
  {
   "cell_type": "code",
   "execution_count": 31,
   "id": "ce628047",
   "metadata": {},
   "outputs": [],
   "source": [
    "expansions_api_url_3 = expansions_api_url + '&next_token={}'.format(response_2_dict['meta']['next_token'])"
   ]
  },
  {
   "cell_type": "code",
   "execution_count": 32,
   "id": "e2df5326",
   "metadata": {
    "scrolled": true
   },
   "outputs": [
    {
     "data": {
      "text/plain": [
       "'https://api.twitter.com/2/tweets/search/recent?query=%28%23DeadbyDaylight%29%20lang%3Aen&max_results=100&tweet.fields=public_metrics,created_at,author_id,lang,conversation_id&expansions=author_id&user.fields=username&next_token=b26v89c19zqg8o3fpdv5st2vzsflcaniwzwe98gfcl4zh'"
      ]
     },
     "execution_count": 32,
     "metadata": {},
     "output_type": "execute_result"
    }
   ],
   "source": [
    "expansions_api_url_3"
   ]
  },
  {
   "cell_type": "code",
   "execution_count": 33,
   "id": "a7893b92",
   "metadata": {},
   "outputs": [],
   "source": [
    "response_3 = requests.request(\"GET\", expansions_api_url_3, headers = header)"
   ]
  },
  {
   "cell_type": "code",
   "execution_count": null,
   "id": "fa2ef82c",
   "metadata": {
    "scrolled": false
   },
   "outputs": [],
   "source": [
    "response_3.text"
   ]
  },
  {
   "cell_type": "code",
   "execution_count": 34,
   "id": "19374db5",
   "metadata": {},
   "outputs": [],
   "source": [
    "response_3 = json.loads(response_3.text)"
   ]
  },
  {
   "cell_type": "code",
   "execution_count": 35,
   "id": "cd6ff702",
   "metadata": {},
   "outputs": [],
   "source": [
    "my_df = pd.DataFrame(response_3['data'])"
   ]
  },
  {
   "cell_type": "code",
   "execution_count": 36,
   "id": "0894aa56",
   "metadata": {
    "scrolled": false
   },
   "outputs": [
    {
     "data": {
      "text/html": [
       "<div>\n",
       "<style scoped>\n",
       "    .dataframe tbody tr th:only-of-type {\n",
       "        vertical-align: middle;\n",
       "    }\n",
       "\n",
       "    .dataframe tbody tr th {\n",
       "        vertical-align: top;\n",
       "    }\n",
       "\n",
       "    .dataframe thead th {\n",
       "        text-align: right;\n",
       "    }\n",
       "</style>\n",
       "<table border=\"1\" class=\"dataframe\">\n",
       "  <thead>\n",
       "    <tr style=\"text-align: right;\">\n",
       "      <th></th>\n",
       "      <th>id</th>\n",
       "      <th>public_metrics</th>\n",
       "      <th>text</th>\n",
       "      <th>lang</th>\n",
       "      <th>author_id</th>\n",
       "      <th>created_at</th>\n",
       "      <th>conversation_id</th>\n",
       "    </tr>\n",
       "  </thead>\n",
       "  <tbody>\n",
       "    <tr>\n",
       "      <th>0</th>\n",
       "      <td>1450901098424832000</td>\n",
       "      <td>{'retweet_count': 0, 'reply_count': 0, 'like_c...</td>\n",
       "      <td>Nice try Mikaela #DeadbyDaylight https://t.co/...</td>\n",
       "      <td>en</td>\n",
       "      <td>3121340176</td>\n",
       "      <td>2021-10-20T19:05:52.000Z</td>\n",
       "      <td>1450901098424832000</td>\n",
       "    </tr>\n",
       "    <tr>\n",
       "      <th>1</th>\n",
       "      <td>1450901069421240328</td>\n",
       "      <td>{'retweet_count': 16, 'reply_count': 0, 'like_...</td>\n",
       "      <td>RT @VolmereArt: YouTube preview commissions 👀\\...</td>\n",
       "      <td>en</td>\n",
       "      <td>1064354985650065408</td>\n",
       "      <td>2021-10-20T19:05:46.000Z</td>\n",
       "      <td>1450901069421240328</td>\n",
       "    </tr>\n",
       "    <tr>\n",
       "      <th>2</th>\n",
       "      <td>1450901058776092680</td>\n",
       "      <td>{'retweet_count': 1, 'reply_count': 0, 'like_c...</td>\n",
       "      <td>I am now live with @StarsanctuaryT playing som...</td>\n",
       "      <td>en</td>\n",
       "      <td>1386413034999107589</td>\n",
       "      <td>2021-10-20T19:05:43.000Z</td>\n",
       "      <td>1450901058776092680</td>\n",
       "    </tr>\n",
       "    <tr>\n",
       "      <th>3</th>\n",
       "      <td>1450901015516127233</td>\n",
       "      <td>{'retweet_count': 208, 'reply_count': 0, 'like...</td>\n",
       "      <td>RT @LeaksDbd: Mikaela's \"Circle of Healing\" pe...</td>\n",
       "      <td>en</td>\n",
       "      <td>1401629914340659201</td>\n",
       "      <td>2021-10-20T19:05:33.000Z</td>\n",
       "      <td>1450901015516127233</td>\n",
       "    </tr>\n",
       "    <tr>\n",
       "      <th>4</th>\n",
       "      <td>1450901000634568705</td>\n",
       "      <td>{'retweet_count': 4, 'reply_count': 0, 'like_c...</td>\n",
       "      <td>RT @DutchWvs: [Eng/PC] New tome on Dead by Day...</td>\n",
       "      <td>en</td>\n",
       "      <td>1438189845541576704</td>\n",
       "      <td>2021-10-20T19:05:29.000Z</td>\n",
       "      <td>1450901000634568705</td>\n",
       "    </tr>\n",
       "    <tr>\n",
       "      <th>...</th>\n",
       "      <td>...</td>\n",
       "      <td>...</td>\n",
       "      <td>...</td>\n",
       "      <td>...</td>\n",
       "      <td>...</td>\n",
       "      <td>...</td>\n",
       "      <td>...</td>\n",
       "    </tr>\n",
       "    <tr>\n",
       "      <th>95</th>\n",
       "      <td>1450896271816921088</td>\n",
       "      <td>{'retweet_count': 99, 'reply_count': 0, 'like_...</td>\n",
       "      <td>RT @harayamanawari: hololife\\n\\n#Vtubers \\n#Ho...</td>\n",
       "      <td>en</td>\n",
       "      <td>2761748491</td>\n",
       "      <td>2021-10-20T18:46:42.000Z</td>\n",
       "      <td>1450896271816921088</td>\n",
       "    </tr>\n",
       "    <tr>\n",
       "      <th>96</th>\n",
       "      <td>1450896222164865033</td>\n",
       "      <td>{'retweet_count': 0, 'reply_count': 0, 'like_c...</td>\n",
       "      <td>RT @ProWrstlinGamer: https://t.co/CkjIAEmY84 L...</td>\n",
       "      <td>en</td>\n",
       "      <td>1233805036846768128</td>\n",
       "      <td>2021-10-20T18:46:30.000Z</td>\n",
       "      <td>1450896222164865033</td>\n",
       "    </tr>\n",
       "    <tr>\n",
       "      <th>97</th>\n",
       "      <td>1450896011212345350</td>\n",
       "      <td>{'retweet_count': 60, 'reply_count': 0, 'like_...</td>\n",
       "      <td>RT @Leonyash3D: Trickster.\\n\\n#3dart #Blender3...</td>\n",
       "      <td>en</td>\n",
       "      <td>1137384419990396929</td>\n",
       "      <td>2021-10-20T18:45:40.000Z</td>\n",
       "      <td>1450896011212345350</td>\n",
       "    </tr>\n",
       "    <tr>\n",
       "      <th>98</th>\n",
       "      <td>1450895966639382537</td>\n",
       "      <td>{'retweet_count': 4, 'reply_count': 0, 'like_c...</td>\n",
       "      <td>RT @luckytrashart: i drew the witch.\\n\\n#dbd #...</td>\n",
       "      <td>en</td>\n",
       "      <td>1291668512885346304</td>\n",
       "      <td>2021-10-20T18:45:29.000Z</td>\n",
       "      <td>1450895966639382537</td>\n",
       "    </tr>\n",
       "    <tr>\n",
       "      <th>99</th>\n",
       "      <td>1450895880282943488</td>\n",
       "      <td>{'retweet_count': 100, 'reply_count': 0, 'like...</td>\n",
       "      <td>RT @kevinwoo91: I was delighted to consult wit...</td>\n",
       "      <td>en</td>\n",
       "      <td>1155004716692246528</td>\n",
       "      <td>2021-10-20T18:45:08.000Z</td>\n",
       "      <td>1450895880282943488</td>\n",
       "    </tr>\n",
       "  </tbody>\n",
       "</table>\n",
       "<p>100 rows × 7 columns</p>\n",
       "</div>"
      ],
      "text/plain": [
       "                     id                                     public_metrics  \\\n",
       "0   1450901098424832000  {'retweet_count': 0, 'reply_count': 0, 'like_c...   \n",
       "1   1450901069421240328  {'retweet_count': 16, 'reply_count': 0, 'like_...   \n",
       "2   1450901058776092680  {'retweet_count': 1, 'reply_count': 0, 'like_c...   \n",
       "3   1450901015516127233  {'retweet_count': 208, 'reply_count': 0, 'like...   \n",
       "4   1450901000634568705  {'retweet_count': 4, 'reply_count': 0, 'like_c...   \n",
       "..                  ...                                                ...   \n",
       "95  1450896271816921088  {'retweet_count': 99, 'reply_count': 0, 'like_...   \n",
       "96  1450896222164865033  {'retweet_count': 0, 'reply_count': 0, 'like_c...   \n",
       "97  1450896011212345350  {'retweet_count': 60, 'reply_count': 0, 'like_...   \n",
       "98  1450895966639382537  {'retweet_count': 4, 'reply_count': 0, 'like_c...   \n",
       "99  1450895880282943488  {'retweet_count': 100, 'reply_count': 0, 'like...   \n",
       "\n",
       "                                                 text lang  \\\n",
       "0   Nice try Mikaela #DeadbyDaylight https://t.co/...   en   \n",
       "1   RT @VolmereArt: YouTube preview commissions 👀\\...   en   \n",
       "2   I am now live with @StarsanctuaryT playing som...   en   \n",
       "3   RT @LeaksDbd: Mikaela's \"Circle of Healing\" pe...   en   \n",
       "4   RT @DutchWvs: [Eng/PC] New tome on Dead by Day...   en   \n",
       "..                                                ...  ...   \n",
       "95  RT @harayamanawari: hololife\\n\\n#Vtubers \\n#Ho...   en   \n",
       "96  RT @ProWrstlinGamer: https://t.co/CkjIAEmY84 L...   en   \n",
       "97  RT @Leonyash3D: Trickster.\\n\\n#3dart #Blender3...   en   \n",
       "98  RT @luckytrashart: i drew the witch.\\n\\n#dbd #...   en   \n",
       "99  RT @kevinwoo91: I was delighted to consult wit...   en   \n",
       "\n",
       "              author_id                created_at      conversation_id  \n",
       "0            3121340176  2021-10-20T19:05:52.000Z  1450901098424832000  \n",
       "1   1064354985650065408  2021-10-20T19:05:46.000Z  1450901069421240328  \n",
       "2   1386413034999107589  2021-10-20T19:05:43.000Z  1450901058776092680  \n",
       "3   1401629914340659201  2021-10-20T19:05:33.000Z  1450901015516127233  \n",
       "4   1438189845541576704  2021-10-20T19:05:29.000Z  1450901000634568705  \n",
       "..                  ...                       ...                  ...  \n",
       "95           2761748491  2021-10-20T18:46:42.000Z  1450896271816921088  \n",
       "96  1233805036846768128  2021-10-20T18:46:30.000Z  1450896222164865033  \n",
       "97  1137384419990396929  2021-10-20T18:45:40.000Z  1450896011212345350  \n",
       "98  1291668512885346304  2021-10-20T18:45:29.000Z  1450895966639382537  \n",
       "99  1155004716692246528  2021-10-20T18:45:08.000Z  1450895880282943488  \n",
       "\n",
       "[100 rows x 7 columns]"
      ]
     },
     "execution_count": 36,
     "metadata": {},
     "output_type": "execute_result"
    }
   ],
   "source": [
    "my_df"
   ]
  },
  {
   "cell_type": "code",
   "execution_count": 37,
   "id": "af0d295a",
   "metadata": {},
   "outputs": [],
   "source": [
    "my_df.to_csv(r\"C:\\Users\\Drew\\EMATFA21.csv\" , encoding='utf-8')"
   ]
  },
  {
   "cell_type": "markdown",
   "id": "018a2079",
   "metadata": {},
   "source": [
    "### Overview\n",
    "Overall, the data collected provides a good sense for what is needed to answer many potential questions regarding Dead by Daylight on Twitter, but can improve in a lot of places. Creating a proper function would help make a cleaner and more efficient data set as well as formatting each of the column names. Being able to have all 300 different tweets categorized into one table would be a much better option rather than limiting them to 100. "
   ]
  }
 ],
 "metadata": {
  "kernelspec": {
   "display_name": "Python 3 (ipykernel)",
   "language": "python",
   "name": "python3"
  },
  "language_info": {
   "codemirror_mode": {
    "name": "ipython",
    "version": 3
   },
   "file_extension": ".py",
   "mimetype": "text/x-python",
   "name": "python",
   "nbconvert_exporter": "python",
   "pygments_lexer": "ipython3",
   "version": "3.9.6"
  }
 },
 "nbformat": 4,
 "nbformat_minor": 5
}
